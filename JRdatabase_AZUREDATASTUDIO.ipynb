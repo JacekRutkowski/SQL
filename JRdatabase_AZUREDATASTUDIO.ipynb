{
    "metadata": {
        "kernelspec": {
            "name": "SQL",
            "display_name": "SQL",
            "language": "sql"
        },
        "language_info": {
            "name": "sql",
            "version": ""
        }
    },
    "nbformat_minor": 2,
    "nbformat": 4,
    "cells": [
        {
            "cell_type": "markdown",
            "source": [
                "# Tworzenie bazy _JRdatabase_\n",
                "\n",
                "CREATE DATABASE  _nazwa\\_bazy_;"
            ],
            "metadata": {
                "azdata_cell_guid": "0320e3d6-661d-4339-a568-3edad66480ee"
            }
        },
        {
            "cell_type": "markdown",
            "source": [
                ""
            ],
            "metadata": {
                "azdata_cell_guid": "d9e9ac61-d232-41a4-b29f-21e30d5f3b16"
            }
        },
        {
            "cell_type": "code",
            "source": [
                "CREATE DATABASE JRdatabase;"
            ],
            "metadata": {
                "azdata_cell_guid": "fa5893c9-41fe-49ce-833f-66f900db92bb"
            },
            "outputs": [],
            "execution_count": null
        },
        {
            "cell_type": "markdown",
            "source": [
                "## Tworzenie tabel w bazie _JRdatabase_\n",
                "\n",
                "CREATE TABLE _nazwa\\_tabeli_ (\n",
                "\n",
                " _nazwa\\_kolumny1 typ\\_danych \\[atrybuty\\],_\n",
                "\n",
                "_nazwa\\_kolumny2 typ\\_danych \\[atrybuty\\]_,\n",
                "\n",
                "...)"
            ],
            "metadata": {
                "azdata_cell_guid": "5c17d36f-651f-4848-949a-0fe9753d9401"
            }
        },
        {
            "cell_type": "code",
            "source": [
                "CREATE TABLE pracownicy (\r\n",
                "    id int IDENTITY(1,1) PRIMARY KEY NOT NULL,\r\n",
                "    imie VARCHAR(30) NOT NULL,\r\n",
                "    nazwisko VARCHAR(60) NOT NULL,\r\n",
                "    pesel NUMERIC(11) NOT NULL,\r\n",
                "    plec VARCHAR(1) check(plec in('M', 'K')) NOT NULL,\r\n",
                "    data_urodzenia DATE NOT NULL,\r\n",
                "    pensja NUMERIC NOT NULL\r\n",
                ");\r\n",
                "\r\n",
                "CREATE TABLE produkty (\r\n",
                "    id int IDENTITY(1,1) PRIMARY KEY NOT NULL,\r\n",
                "    nazwa_produktu VARCHAR(100) NOT NULL,\r\n",
                "    typ_produktu VARCHAR(30) NOT NULL,\r\n",
                "    cena_sprzedazy NUMERIC NOT NULL,\r\n",
                "    cena_zakupu NUMERIC NOT NULL,\r\n",
                "    stawka_podatku NUMERIC NOT NULL\r\n",
                ");\r\n",
                "\r\n",
                "CREATE TABLE departamenty (\r\n",
                "    kod_departamentu NUMERIC NOT NULL,\r\n",
                "    nazwa_departamentu VARCHAR(40) NOT NULL,\r\n",
                "    id_kierownika int NOT NULL,\r\n",
                "    miejscowosc VARCHAR(50) NOT NULL\r\n",
                ");"
            ],
            "metadata": {
                "azdata_cell_guid": "ba67dcdb-0b10-4c58-b4e1-4bb4dcd0f149"
            },
            "outputs": [
                {
                    "output_type": "error",
                    "ename": "",
                    "evalue": "Msg 2715, Level 16, State 6, Line 1\r\nColumn, parameter, or variable #1: Cannot find data type number.",
                    "traceback": []
                },
                {
                    "output_type": "display_data",
                    "data": {
                        "text/html": "Total execution time: 00:00:00.025"
                    },
                    "metadata": {}
                }
            ],
            "execution_count": 1
        },
        {
            "cell_type": "markdown",
            "source": [
                "## Wprowadzanie danych do tabeli\n",
                "\n",
                "INSERT INTO _nazwa\\_tabeli (nazwa\\_kolumny1, nazwa\\_kolumny2,..)_ \n",
                "\n",
                "VALUES (_wartosc1, wartosc2...);_"
            ],
            "metadata": {
                "azdata_cell_guid": "ed47cd5d-4156-4844-a4cc-be748719d0d8"
            }
        },
        {
            "cell_type": "code",
            "source": [
                "INSERT into pracownicy (imie, nazwisko, pesel, plec, data_urodzenia, pensja)\r\n",
                "VALUES \r\n",
                "('Jan', 'Kowalski', 88020512345, 'M', '1988/02/05', 4000),\r\n",
                "('Krzysztof', 'Kapusta', 70122012345, 'M', '1970/12/20', 2500 ),\r\n",
                "('Magdalena', ' Dzwonkowska', 92081612345, 'K', '1992/08/16', 5000),\r\n",
                "('Karol', 'Krawczyk', 82010112345, 'M','1982/01/01', 3000),\r\n",
                "('Joanna', 'Bak', 90121212345, 'K', '1990/12/12', 2700),\r\n",
                "('Robert', 'Psikuta', 95070812345, 'M', '1995/07/08', 4200),\r\n",
                "('Stefan', 'Siarzewski', 60051212345, 'M', '1960/05/12', 4550),\r\n",
                "('Zofia', 'Brzydal', 84021612345, 'K', '1984/02/16', 2400),\r\n",
                "('Julia', 'Niedziela', 81050212345, 'K', '1981/05/02', 7000),\r\n",
                "('Bartosz', 'Karmel', 58031212345, 'M', '1958/02/12', 5120);\r\n",
                "\r\n",
                "INSERT INto produkty (nazwa_produktu, typ_produktu, cena_sprzedazy, cena_zakupu, stawka_podatku)\r\n",
                "VALUES\r\n",
                "('Baton \"Mars\"', 'słodycz', 2.5, 1.5, 23),\r\n",
                "('chleb', 'pieczywo', 3, 1.2, 23),\r\n",
                "('płatki owsiane 0.5kg', 'nasiona', 2.25, 1.45, 23),\r\n",
                "('płatki owskiane 1kg', 'nasiona', 4, 2.4, 23),\r\n",
                "('mleko', 'nabiał', 3.5, 2, 23),\r\n",
                "('jogurt \"Danone\"', 'nabiał', 3.5, 2, 23),\r\n",
                "('woda gazowana', 'napoje', 1.9, 1, 23),\r\n",
                "('woda niegazowana', 'napoje', 1.9, 1 , 23),\r\n",
                "('oranżada', 'napoje', 2.49, 2, 23),\r\n",
                "('bułka pszenna', 'pieczywo', 0.5, 0.3, 23),\r\n",
                "('bułka żytnia', 'pieczywo', 0.7, 0.5, 23),\r\n",
                "('balsam do ciała', 'kosmetyki', 20, 14, 23),\r\n",
                "('krem do rąk', 'kosmetyki', 8, 6.4, 23),\r\n",
                "('dezodorant', 'kosmetyki', 9, 4.4, 23),\r\n",
                "('piwo', 'alkohol', 4, 2.8, 30),\r\n",
                "('wódka polska', 'alkohol', 25, 14, 30),\r\n",
                "('whiskey', 'alkohol', 60, 40, 30),\r\n",
                "('czekolada', 'słodycz', 5, 2 , 23),\r\n",
                "('ryż', 'nasiona', 3, 1.5, 23),\r\n",
                "('kasza gryczana', 'nasiona', 3, 1.7, 23);\r\n",
                "\r\n",
                "INSERT INto departamenty(kod_departamentu, nazwa_departamentu, id_kierownika, miejscowosc)\r\n",
                "VALUES\r\n",
                "(1, 'księgowość', 3, 'Gdańsk Oliwa'),\r\n",
                "(2, 'produkcja', 6, 'Gdańsk Kokoszki'),\r\n",
                "(3, 'administracja', 1, 'Gdańsk Oliwa'),\r\n",
                "(4, 'IT', 7, 'Gdańsk Oliwa'),\r\n",
                "(5, 'Sprzedaż', 10, 'Gdańsk Wrzeszcz');"
            ],
            "metadata": {
                "azdata_cell_guid": "ad2c911b-8937-455c-8e14-7933987e32b8"
            },
            "outputs": [
                {
                    "output_type": "error",
                    "ename": "",
                    "evalue": "Msg 208, Level 16, State 1, Line 1\r\nInvalid object name 'pracownicy'.",
                    "traceback": []
                },
                {
                    "output_type": "display_data",
                    "data": {
                        "text/html": "Total execution time: 00:00:00.009"
                    },
                    "metadata": {}
                }
            ],
            "execution_count": 2
        },
        {
            "cell_type": "markdown",
            "source": [
                "## Dodanie  **_CONSTRAIN_**: PRIMARY KEY, FOREIGN KEY do tabeli _departamenty_\n",
                "\n",
                "ALTER TABLE _nazwa\\_tabeli_\n",
                "\n",
                "add CONSTRAINT _nazwa\\_klucza_ PRIMARY KEY (_nazwa\\_kolumny_);\n",
                "\n",
                "ALTER TABLE _nazwa\\_tabeli\\_FOREIGN\\_KEY_\n",
                "\n",
                "add CONSTRAINT _nazwa\\_klucza_ FOREIGN KEY (_nazwa\\_kolumny_)\n",
                "\n",
                "REFERENCES nazwa\\_tabeli\\_PRIMARY\\_KEY(nazwa\\_kolumny\\_PRIMARY\\_KEY);"
            ],
            "metadata": {
                "azdata_cell_guid": "826277b2-6ab7-4c82-b5a0-c347c53442b9"
            }
        },
        {
            "cell_type": "code",
            "source": [
                "ALTER TABLE departamenty\r\n",
                "add CONSTRAINT pk_dep_pracownik PRIMARY KEY (kod_departamentu);\r\n",
                "\r\n",
                "ALTER TABLE departamenty\r\n",
                "add CONSTRAINT fk_dep_pracownik FOREIGN KEY (id_kierownika)\r\n",
                "REFERENCES pracownicy(id);"
            ],
            "metadata": {
                "azdata_cell_guid": "8e8d645f-3f76-4d4e-96df-823dc8b5ce8b"
            },
            "outputs": [],
            "execution_count": null
        }
    ]
}